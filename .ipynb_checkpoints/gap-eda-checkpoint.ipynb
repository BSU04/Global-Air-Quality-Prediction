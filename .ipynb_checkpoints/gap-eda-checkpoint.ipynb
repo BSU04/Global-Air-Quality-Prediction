{
 "cells": [
  {
   "cell_type": "markdown",
   "id": "8f9855ca",
   "metadata": {},
   "source": [
    "## Libraries"
   ]
  },
  {
   "cell_type": "code",
   "execution_count": 60,
   "id": "6b737702",
   "metadata": {},
   "outputs": [],
   "source": [
    "import os\n",
    "import pandas as pd\n",
    "import numpy as np\n",
    "import matplotlib.pyplot as plt\n",
    "import seaborn as sns\n",
    "%matplotlib inline\n",
    "import warnings\n",
    "warnings.filterwarnings('ignore')\n",
    "\n",
    "import missingno as msn\n",
    "import plotly.express as px"
   ]
  },
  {
   "cell_type": "markdown",
   "id": "6b0b8da8",
   "metadata": {},
   "source": [
    "## Importing Data"
   ]
  },
  {
   "cell_type": "code",
   "execution_count": 8,
   "id": "448920ae",
   "metadata": {},
   "outputs": [],
   "source": [
    "gap = pd.read_csv(\"global air pollution dataset.csv\")"
   ]
  },
  {
   "cell_type": "markdown",
   "id": "d620a922",
   "metadata": {},
   "source": [
    "> Let's take a look at the initial view of the dataset"
   ]
  },
  {
   "cell_type": "code",
   "execution_count": 11,
   "id": "4cfe4454",
   "metadata": {},
   "outputs": [
    {
     "data": {
      "text/html": [
       "<div>\n",
       "<style scoped>\n",
       "    .dataframe tbody tr th:only-of-type {\n",
       "        vertical-align: middle;\n",
       "    }\n",
       "\n",
       "    .dataframe tbody tr th {\n",
       "        vertical-align: top;\n",
       "    }\n",
       "\n",
       "    .dataframe thead th {\n",
       "        text-align: right;\n",
       "    }\n",
       "</style>\n",
       "<table border=\"1\" class=\"dataframe\">\n",
       "  <thead>\n",
       "    <tr style=\"text-align: right;\">\n",
       "      <th></th>\n",
       "      <th>Country</th>\n",
       "      <th>City</th>\n",
       "      <th>AQI Value</th>\n",
       "      <th>AQI Category</th>\n",
       "      <th>CO AQI Value</th>\n",
       "      <th>CO AQI Category</th>\n",
       "      <th>Ozone AQI Value</th>\n",
       "      <th>Ozone AQI Category</th>\n",
       "      <th>NO2 AQI Value</th>\n",
       "      <th>NO2 AQI Category</th>\n",
       "      <th>PM2.5 AQI Value</th>\n",
       "      <th>PM2.5 AQI Category</th>\n",
       "    </tr>\n",
       "  </thead>\n",
       "  <tbody>\n",
       "    <tr>\n",
       "      <th>0</th>\n",
       "      <td>Russian Federation</td>\n",
       "      <td>Praskoveya</td>\n",
       "      <td>51</td>\n",
       "      <td>Moderate</td>\n",
       "      <td>1</td>\n",
       "      <td>Good</td>\n",
       "      <td>36</td>\n",
       "      <td>Good</td>\n",
       "      <td>0</td>\n",
       "      <td>Good</td>\n",
       "      <td>51</td>\n",
       "      <td>Moderate</td>\n",
       "    </tr>\n",
       "    <tr>\n",
       "      <th>1</th>\n",
       "      <td>Brazil</td>\n",
       "      <td>Presidente Dutra</td>\n",
       "      <td>41</td>\n",
       "      <td>Good</td>\n",
       "      <td>1</td>\n",
       "      <td>Good</td>\n",
       "      <td>5</td>\n",
       "      <td>Good</td>\n",
       "      <td>1</td>\n",
       "      <td>Good</td>\n",
       "      <td>41</td>\n",
       "      <td>Good</td>\n",
       "    </tr>\n",
       "    <tr>\n",
       "      <th>2</th>\n",
       "      <td>Italy</td>\n",
       "      <td>Priolo Gargallo</td>\n",
       "      <td>66</td>\n",
       "      <td>Moderate</td>\n",
       "      <td>1</td>\n",
       "      <td>Good</td>\n",
       "      <td>39</td>\n",
       "      <td>Good</td>\n",
       "      <td>2</td>\n",
       "      <td>Good</td>\n",
       "      <td>66</td>\n",
       "      <td>Moderate</td>\n",
       "    </tr>\n",
       "    <tr>\n",
       "      <th>3</th>\n",
       "      <td>Poland</td>\n",
       "      <td>Przasnysz</td>\n",
       "      <td>34</td>\n",
       "      <td>Good</td>\n",
       "      <td>1</td>\n",
       "      <td>Good</td>\n",
       "      <td>34</td>\n",
       "      <td>Good</td>\n",
       "      <td>0</td>\n",
       "      <td>Good</td>\n",
       "      <td>20</td>\n",
       "      <td>Good</td>\n",
       "    </tr>\n",
       "    <tr>\n",
       "      <th>4</th>\n",
       "      <td>France</td>\n",
       "      <td>Punaauia</td>\n",
       "      <td>22</td>\n",
       "      <td>Good</td>\n",
       "      <td>0</td>\n",
       "      <td>Good</td>\n",
       "      <td>22</td>\n",
       "      <td>Good</td>\n",
       "      <td>0</td>\n",
       "      <td>Good</td>\n",
       "      <td>6</td>\n",
       "      <td>Good</td>\n",
       "    </tr>\n",
       "  </tbody>\n",
       "</table>\n",
       "</div>"
      ],
      "text/plain": [
       "              Country              City  AQI Value AQI Category  CO AQI Value  \\\n",
       "0  Russian Federation        Praskoveya         51     Moderate             1   \n",
       "1              Brazil  Presidente Dutra         41         Good             1   \n",
       "2               Italy   Priolo Gargallo         66     Moderate             1   \n",
       "3              Poland         Przasnysz         34         Good             1   \n",
       "4              France          Punaauia         22         Good             0   \n",
       "\n",
       "  CO AQI Category  Ozone AQI Value Ozone AQI Category  NO2 AQI Value  \\\n",
       "0            Good               36               Good              0   \n",
       "1            Good                5               Good              1   \n",
       "2            Good               39               Good              2   \n",
       "3            Good               34               Good              0   \n",
       "4            Good               22               Good              0   \n",
       "\n",
       "  NO2 AQI Category  PM2.5 AQI Value PM2.5 AQI Category  \n",
       "0             Good               51           Moderate  \n",
       "1             Good               41               Good  \n",
       "2             Good               66           Moderate  \n",
       "3             Good               20               Good  \n",
       "4             Good                6               Good  "
      ]
     },
     "execution_count": 11,
     "metadata": {},
     "output_type": "execute_result"
    }
   ],
   "source": [
    "gap.head()"
   ]
  },
  {
   "cell_type": "code",
   "execution_count": 67,
   "id": "c34f4973",
   "metadata": {},
   "outputs": [
    {
     "data": {
      "text/plain": [
       "(23035, 12)"
      ]
     },
     "execution_count": 67,
     "metadata": {},
     "output_type": "execute_result"
    }
   ],
   "source": [
    "gap.shape"
   ]
  },
  {
   "cell_type": "code",
   "execution_count": 76,
   "id": "7d9eaaec",
   "metadata": {},
   "outputs": [
    {
     "data": {
      "text/plain": [
       "object    7\n",
       "int64     5\n",
       "dtype: int64"
      ]
     },
     "execution_count": 76,
     "metadata": {},
     "output_type": "execute_result"
    }
   ],
   "source": [
    "gap.dtypes.value_counts()"
   ]
  },
  {
   "cell_type": "markdown",
   "id": "3e4246f2",
   "metadata": {},
   "source": [
    "> The dataset consists of 23,463 records and 12 features\n",
    "\n",
    "> Out of those 12 features 5 of them are Numerical and 7 are Categorical"
   ]
  },
  {
   "cell_type": "markdown",
   "id": "d7ae0b48",
   "metadata": {},
   "source": [
    "## About "
   ]
  },
  {
   "cell_type": "markdown",
   "id": "5992567f",
   "metadata": {},
   "source": [
    "> The Features of the dataset are to be fully understood inorder to decide which data are to be taken for further analysis.\n",
    "\n",
    "> Learning the features is essential for preprocessing the data if there exists incorrect entries, missing values, duplicated values and incorrect string formatting etc.\n",
    "\n",
    "> Hence let's take a look at what each feature in the dataset represents"
   ]
  },
  {
   "cell_type": "markdown",
   "id": "61868538",
   "metadata": {},
   "source": [
    "**Country** - Name of the country\n",
    "\n",
    "**City** - Name of the city\n",
    "\n",
    "**Air quality index (AQI)** - An air quality index (AQI) indicates how polluted the air currently is or how polluted it is forecast to become. The AQI is calculated based on the levels of several air pollutants, including particulate matter (PM2.5 and PM10), ozone (O3), nitrogen dioxide (NO2), sulfur dioxide (SO2), and carbon monoxide (CO).\n",
    "\n",
    "**AQI Category** -  Overall AQI category of the city\n",
    "\n",
    "**CO AQI** -  CO AQI specifically refers to the Air Quality Index value calculated based on the levels of carbon monoxide in the air. Carbon monoxide is a poisonous gas that is emitted by vehicles, generators, and other combustion sources. Carbon Monoxide is a colorless and odorless gas. Outdoor, it is emitted in the air above all by cars, trucks and other vehicles or machineries that burn fossil fuels. Such items like kerosene and gas space heaters, gas stoves also release CO affecting indoor air quality.\n",
    "\n",
    "**CO AQI Value** : AQI value of Carbon Monoxide of the city\n",
    "\n",
    "**Ozone AQI** - Ozone AQI refers to the Air Quality Index value calculated based on the levels of ozone (O3) in the air. Ozone is a highly reactive gas that is created by the interaction of sunlight with pollutants emitted by vehicles, industrial processes, and other sources.Furthermore it can reduce lung function and worsen bronchitis, emphysema, and asthma. Ozone affects also vegetation and ecosystems. In particular, it damages sensitive vegetation during the growing season.\n",
    "\n",
    "**Ozone AQI Value** : AQI value of Ozone of the city\n",
    "\n",
    "**NO2 AQI** - NO2 AQI refers to the Air Quality Index value calculated based on the levels of nitrogen dioxide (NO2) in the air. Nitrogen dioxide is a highly reactive gas that is emitted by vehicles, power plants, and other combustion sources. Exposure over short periods can aggravate respiratory diseases, like asthma. Longer exposures may contribute to develoment of asthma and respiratory infections. People with asthma, children and the elderly are at greater risk for the health effects of NO2.\n",
    "\n",
    "**NO2 AQI Value** : AQI value of Nitrogen Dioxide of the city\n",
    "\n",
    "**PM2.5** - Atmospheric Particulate Matter, also known as atmospheric aerosol particles, are complex mixtures of small solid and liquid matter that get into the air. If inhaled they can cause serious heart and lungs problem. They have been classified as **group 1 carcinogen by the International Agengy for Research on Cancer (IARC)**.It can come from a variety of sources, including vehicle exhaust, **power plants**, wildfires, and dust. PM2.5 refers to those particles with a diameter of 2.5 micrometers or less.\n",
    "\n",
    "**PM2.5 AQI Value** : AQI value of Particulate Matter with a diameter of 2.5 micrometers or less of the city\n",
    "\n",
    "https://acp.copernicus.org/preprints/acp-2020-672/acp-2020-672-manuscript-version4.pdf\n",
    "\n",
    "https://www.google.com/search?q=pm+value+of+plastic+burn&client=firefox-b-d&ei=DU4kZMC8O8ONseMP_7CvuAo&ved=0ahUKEwiA95LAr4H-AhXDRmwGHX_YC6cQ4dUDCA4&uact=5&oq=pm+value+of+plastic+burn&gs_lcp=Cgxnd3Mtd2l6LXNlcnAQAzIFCCEQoAEyBQghEKABOgoIABBHENYEELADOhkIABCKBRDqAhC0AhCKAxC3AxDUAxDlAhgBOhMIABCPARDqAhC0AhCMAxDlAhgCOhMILhCPARDqAhC0AhCMAxDlAhgCOgcIABCKBRBDOggIABCKBRCRAjoLCC4QigUQsQMQgwE6CwgAEIAEELEDEIMBOg0IABCKBRCxAxCDARBDOggILhCABBCxAzoLCC4QgAQQsQMQ1AI6CwguEIAEELEDEIMBOg0ILhCKBRCxAxCDARBDOgUILhCABDoJCAAQigUQChBDOg0ILhCKBRDHARCvARBDOggIABCABBCxAzoFCAAQgAQ6DQguEIAEEMcBEK8BEAo6EAguEK8BEMcBELEDEIAEEAo6BggAEBYQHjoICAAQFhAeEA86CAgAEIoFEIYDOggIIRAWEB4QHToHCCEQoAEQCjoKCCEQFhAeEA8QHUoECEEYAEoFCEASATFQ1AZY4llgolxoCXABeACAAZgBiAGdGpIBBDAuMjeYAQCgAQGwARTIAQjAAQHaAQQIARgH2gEGCAIQARgK&sclient=gws-wiz-serp\n",
    "\n",
    "\n",
    "\n",
    "\n"
   ]
  },
  {
   "cell_type": "markdown",
   "id": "6af8700c",
   "metadata": {},
   "source": [
    "> Now let's take a look at the domain clases of AQI Category along with it's corresponding range"
   ]
  },
  {
   "cell_type": "markdown",
   "id": "d70cfce5",
   "metadata": {},
   "source": [
    "## AQI Value Indications"
   ]
  },
  {
   "cell_type": "markdown",
   "id": "ef5fb707",
   "metadata": {},
   "source": [
    "The AQI Value ranging from: \n",
    "\n",
    "> 0 to 50 - Good \n",
    "\n",
    "> 51 to 100 - Moderate\n",
    "\n",
    "> 101 to 150 - Unhealthy for sensitive groups\n",
    "\n",
    "> 151 to 200 - Unhealthy\n",
    "\n",
    "> 201 to 300 - Very Unhealthy\n",
    "\n",
    "> 301 to 500 - Hazardous"
   ]
  },
  {
   "cell_type": "markdown",
   "id": "85f33343",
   "metadata": {},
   "source": [
    "## Data Preprocessing"
   ]
  },
  {
   "cell_type": "markdown",
   "id": "be0f2100",
   "metadata": {},
   "source": [
    "The Aim is to ensure the following for making it suitable for analysis and modeling"
   ]
  },
  {
   "cell_type": "markdown",
   "id": "795f1e70",
   "metadata": {},
   "source": [
    "> No duplicates \n",
    "\n",
    "> No missing values\n",
    "\n",
    "> Dataset with proper datatypes"
   ]
  },
  {
   "cell_type": "markdown",
   "id": "6259b411",
   "metadata": {},
   "source": [
    "The first step is to check for duplicate records in the dataset"
   ]
  },
  {
   "cell_type": "code",
   "execution_count": 18,
   "id": "4de9f010",
   "metadata": {
    "scrolled": true
   },
   "outputs": [
    {
     "data": {
      "text/html": [
       "<div>\n",
       "<style scoped>\n",
       "    .dataframe tbody tr th:only-of-type {\n",
       "        vertical-align: middle;\n",
       "    }\n",
       "\n",
       "    .dataframe tbody tr th {\n",
       "        vertical-align: top;\n",
       "    }\n",
       "\n",
       "    .dataframe thead th {\n",
       "        text-align: right;\n",
       "    }\n",
       "</style>\n",
       "<table border=\"1\" class=\"dataframe\">\n",
       "  <thead>\n",
       "    <tr style=\"text-align: right;\">\n",
       "      <th></th>\n",
       "      <th>Country</th>\n",
       "      <th>City</th>\n",
       "      <th>AQI Value</th>\n",
       "      <th>AQI Category</th>\n",
       "      <th>CO AQI Value</th>\n",
       "      <th>CO AQI Category</th>\n",
       "      <th>Ozone AQI Value</th>\n",
       "      <th>Ozone AQI Category</th>\n",
       "      <th>NO2 AQI Value</th>\n",
       "      <th>NO2 AQI Category</th>\n",
       "      <th>PM2.5 AQI Value</th>\n",
       "      <th>PM2.5 AQI Category</th>\n",
       "    </tr>\n",
       "  </thead>\n",
       "  <tbody>\n",
       "  </tbody>\n",
       "</table>\n",
       "</div>"
      ],
      "text/plain": [
       "Empty DataFrame\n",
       "Columns: [Country, City, AQI Value, AQI Category, CO AQI Value, CO AQI Category, Ozone AQI Value, Ozone AQI Category, NO2 AQI Value, NO2 AQI Category, PM2.5 AQI Value, PM2.5 AQI Category]\n",
       "Index: []"
      ]
     },
     "execution_count": 18,
     "metadata": {},
     "output_type": "execute_result"
    }
   ],
   "source": [
    "# check for duplicates\n",
    "dup = gap[gap.duplicated()]\n",
    "dup"
   ]
  },
  {
   "cell_type": "markdown",
   "id": "fae05664",
   "metadata": {},
   "source": [
    "There exists no duplications"
   ]
  },
  {
   "cell_type": "markdown",
   "id": "9a896bdd",
   "metadata": {},
   "source": [
    "> Now let's check for missing values in the dataset"
   ]
  },
  {
   "cell_type": "code",
   "execution_count": 19,
   "id": "e0bea4ed",
   "metadata": {
    "scrolled": true
   },
   "outputs": [
    {
     "data": {
      "text/plain": [
       "Country               427\n",
       "City                    1\n",
       "AQI Value               0\n",
       "AQI Category            0\n",
       "CO AQI Value            0\n",
       "CO AQI Category         0\n",
       "Ozone AQI Value         0\n",
       "Ozone AQI Category      0\n",
       "NO2 AQI Value           0\n",
       "NO2 AQI Category        0\n",
       "PM2.5 AQI Value         0\n",
       "PM2.5 AQI Category      0\n",
       "dtype: int64"
      ]
     },
     "execution_count": 19,
     "metadata": {},
     "output_type": "execute_result"
    }
   ],
   "source": [
    "# check for missing values\n",
    "gap.isnull().sum()"
   ]
  },
  {
   "cell_type": "markdown",
   "id": "2c7279bb",
   "metadata": {},
   "source": [
    "> The dataset contains missing values which can lead to wrong inferences therefore imputation is necessary before proceeding into analysis"
   ]
  },
  {
   "cell_type": "code",
   "execution_count": 75,
   "id": "2a200da2",
   "metadata": {},
   "outputs": [
    {
     "name": "stdout",
     "output_type": "stream",
     "text": [
      "Missing value count:\n",
      "--------------------\n",
      "Country: - 427\n",
      "City: - 1\n"
     ]
    }
   ],
   "source": [
    "print(\"Missing value count:\")\n",
    "print(\"--------------------\")\n",
    "print(\"Country: - 427\")\n",
    "print(\"City: - 1\")"
   ]
  },
  {
   "cell_type": "markdown",
   "id": "86cd88b5",
   "metadata": {},
   "source": [
    "> The Feature \"Country\"  has a missing value count of 427 and \"City\" with a count of 1\n",
    "\n",
    "> Most Countries has city names which are similar hence even if the missing values are manually imputed with the help of city names it may not be accurate enough and may deviate the course of analysis.\n",
    "\n",
    "> In the case of City it is impossible to find the city just by the name of the country it cannot be imputed.\n",
    "\n",
    "> Another way is drop the records having missing values but this may affect the analysis if the data is smaller but since our \n",
    "current data is big enough rows are dropped.\n"
   ]
  },
  {
   "cell_type": "code",
   "execution_count": 29,
   "id": "5fb6b3e8",
   "metadata": {},
   "outputs": [],
   "source": [
    "# dropping the records\n",
    "gap.dropna(axis=0, how='any',inplace=True)"
   ]
  },
  {
   "cell_type": "markdown",
   "id": "bd8408a1",
   "metadata": {},
   "source": [
    "> Let's take a look at the new dimensions of the dataset after dropping the records"
   ]
  },
  {
   "cell_type": "code",
   "execution_count": 49,
   "id": "f815b3b3",
   "metadata": {},
   "outputs": [
    {
     "name": "stdout",
     "output_type": "stream",
     "text": [
      "New dimensions of the Dataset:  (23035, 12)\n",
      "The Records got reduced from 23,463 to 23,035\n"
     ]
    }
   ],
   "source": [
    "# new dimension\n",
    "new_dim = gap.shape\n",
    "print(\"New dimensions of the Dataset: \", new_dim)\n",
    "print(\"The Records got reduced from 23,463 to 23,035\")"
   ]
  },
  {
   "cell_type": "markdown",
   "id": "e10c05ee",
   "metadata": {},
   "source": [
    "> Ensuring whether all the features are assigned with proper datatypes"
   ]
  },
  {
   "cell_type": "code",
   "execution_count": 38,
   "id": "0e1be3ae",
   "metadata": {},
   "outputs": [
    {
     "data": {
      "text/plain": [
       "Country               object\n",
       "City                  object\n",
       "AQI Value              int64\n",
       "AQI Category          object\n",
       "CO AQI Value           int64\n",
       "CO AQI Category       object\n",
       "Ozone AQI Value        int64\n",
       "Ozone AQI Category    object\n",
       "NO2 AQI Value          int64\n",
       "NO2 AQI Category      object\n",
       "PM2.5 AQI Value        int64\n",
       "PM2.5 AQI Category    object\n",
       "dtype: object"
      ]
     },
     "execution_count": 38,
     "metadata": {},
     "output_type": "execute_result"
    }
   ],
   "source": [
    "# check for proper datatypes\n",
    "gap.dtypes"
   ]
  },
  {
   "cell_type": "code",
   "execution_count": null,
   "id": "29aa9c9f",
   "metadata": {},
   "outputs": [],
   "source": []
  },
  {
   "cell_type": "code",
   "execution_count": null,
   "id": "ff09bcc5",
   "metadata": {},
   "outputs": [],
   "source": []
  },
  {
   "cell_type": "code",
   "execution_count": null,
   "id": "ed1cd938",
   "metadata": {},
   "outputs": [],
   "source": []
  },
  {
   "cell_type": "markdown",
   "id": "a2da8daf",
   "metadata": {},
   "source": [
    "### Statistical Analysis"
   ]
  },
  {
   "cell_type": "code",
   "execution_count": 39,
   "id": "dcd60c37",
   "metadata": {
    "scrolled": true
   },
   "outputs": [
    {
     "data": {
      "text/html": [
       "<div>\n",
       "<style scoped>\n",
       "    .dataframe tbody tr th:only-of-type {\n",
       "        vertical-align: middle;\n",
       "    }\n",
       "\n",
       "    .dataframe tbody tr th {\n",
       "        vertical-align: top;\n",
       "    }\n",
       "\n",
       "    .dataframe thead th {\n",
       "        text-align: right;\n",
       "    }\n",
       "</style>\n",
       "<table border=\"1\" class=\"dataframe\">\n",
       "  <thead>\n",
       "    <tr style=\"text-align: right;\">\n",
       "      <th></th>\n",
       "      <th>AQI Value</th>\n",
       "      <th>CO AQI Value</th>\n",
       "      <th>Ozone AQI Value</th>\n",
       "      <th>NO2 AQI Value</th>\n",
       "      <th>PM2.5 AQI Value</th>\n",
       "    </tr>\n",
       "  </thead>\n",
       "  <tbody>\n",
       "    <tr>\n",
       "      <th>count</th>\n",
       "      <td>23035.000000</td>\n",
       "      <td>23035.000000</td>\n",
       "      <td>23035.000000</td>\n",
       "      <td>23035.000000</td>\n",
       "      <td>23035.000000</td>\n",
       "    </tr>\n",
       "    <tr>\n",
       "      <th>mean</th>\n",
       "      <td>72.344693</td>\n",
       "      <td>1.376254</td>\n",
       "      <td>35.233905</td>\n",
       "      <td>3.084741</td>\n",
       "      <td>68.883482</td>\n",
       "    </tr>\n",
       "    <tr>\n",
       "      <th>std</th>\n",
       "      <td>56.360992</td>\n",
       "      <td>1.844926</td>\n",
       "      <td>28.236613</td>\n",
       "      <td>5.281708</td>\n",
       "      <td>55.057396</td>\n",
       "    </tr>\n",
       "    <tr>\n",
       "      <th>min</th>\n",
       "      <td>6.000000</td>\n",
       "      <td>0.000000</td>\n",
       "      <td>0.000000</td>\n",
       "      <td>0.000000</td>\n",
       "      <td>0.000000</td>\n",
       "    </tr>\n",
       "    <tr>\n",
       "      <th>25%</th>\n",
       "      <td>39.000000</td>\n",
       "      <td>1.000000</td>\n",
       "      <td>21.000000</td>\n",
       "      <td>0.000000</td>\n",
       "      <td>35.000000</td>\n",
       "    </tr>\n",
       "    <tr>\n",
       "      <th>50%</th>\n",
       "      <td>55.000000</td>\n",
       "      <td>1.000000</td>\n",
       "      <td>31.000000</td>\n",
       "      <td>1.000000</td>\n",
       "      <td>54.000000</td>\n",
       "    </tr>\n",
       "    <tr>\n",
       "      <th>75%</th>\n",
       "      <td>80.000000</td>\n",
       "      <td>1.000000</td>\n",
       "      <td>40.000000</td>\n",
       "      <td>4.000000</td>\n",
       "      <td>79.000000</td>\n",
       "    </tr>\n",
       "    <tr>\n",
       "      <th>max</th>\n",
       "      <td>500.000000</td>\n",
       "      <td>133.000000</td>\n",
       "      <td>235.000000</td>\n",
       "      <td>91.000000</td>\n",
       "      <td>500.000000</td>\n",
       "    </tr>\n",
       "  </tbody>\n",
       "</table>\n",
       "</div>"
      ],
      "text/plain": [
       "          AQI Value  CO AQI Value  Ozone AQI Value  NO2 AQI Value  \\\n",
       "count  23035.000000  23035.000000     23035.000000   23035.000000   \n",
       "mean      72.344693      1.376254        35.233905       3.084741   \n",
       "std       56.360992      1.844926        28.236613       5.281708   \n",
       "min        6.000000      0.000000         0.000000       0.000000   \n",
       "25%       39.000000      1.000000        21.000000       0.000000   \n",
       "50%       55.000000      1.000000        31.000000       1.000000   \n",
       "75%       80.000000      1.000000        40.000000       4.000000   \n",
       "max      500.000000    133.000000       235.000000      91.000000   \n",
       "\n",
       "       PM2.5 AQI Value  \n",
       "count     23035.000000  \n",
       "mean         68.883482  \n",
       "std          55.057396  \n",
       "min           0.000000  \n",
       "25%          35.000000  \n",
       "50%          54.000000  \n",
       "75%          79.000000  \n",
       "max         500.000000  "
      ]
     },
     "execution_count": 39,
     "metadata": {},
     "output_type": "execute_result"
    }
   ],
   "source": [
    "gap.describe()"
   ]
  },
  {
   "cell_type": "code",
   "execution_count": 22,
   "id": "38209567",
   "metadata": {},
   "outputs": [],
   "source": [
    "pd.set_option(\"display.max_rows\", None)"
   ]
  },
  {
   "cell_type": "code",
   "execution_count": 27,
   "id": "f8962281",
   "metadata": {
    "scrolled": true
   },
   "outputs": [
    {
     "data": {
      "text/plain": [
       "United States of America                                2872\n",
       "India                                                   2488\n",
       "Brazil                                                  1562\n",
       "Germany                                                 1345\n",
       "Russian Federation                                      1241\n",
       "Italy                                                    979\n",
       "France                                                   802\n",
       "China                                                    795\n",
       "Japan                                                    702\n",
       "Mexico                                                   588\n",
       "Spain                                                    425\n",
       "United Kingdom of Great Britain and Northern Ireland     400\n",
       "Poland                                                   389\n",
       "Indonesia                                                379\n",
       "Philippines                                              337\n",
       "Pakistan                                                 307\n",
       "Netherlands                                              298\n",
       "Belgium                                                  284\n",
       "Colombia                                                 250\n",
       "Thailand                                                 246\n",
       "Turkey                                                   241\n",
       "United Republic of Tanzania                              229\n",
       "Ukraine                                                  219\n",
       "Romania                                                  211\n",
       "Iran (Islamic Republic of)                               179\n",
       "South Africa                                             174\n",
       "Portugal                                                 153\n",
       "Nigeria                                                  144\n",
       "Hungary                                                  142\n",
       "Canada                                                   141\n",
       "Peru                                                     128\n",
       "Czechia                                                  127\n",
       "Malaysia                                                 125\n",
       "Guatemala                                                121\n",
       "Switzerland                                              116\n",
       "Greece                                                   104\n",
       "Cuba                                                      98\n",
       "Sweden                                                    97\n",
       "Venezuela (Bolivarian Republic of)                        90\n",
       "Serbia                                                    89\n",
       "Australia                                                 85\n",
       "Ethiopia                                                  82\n",
       "Chile                                                     81\n",
       "Finland                                                   81\n",
       "Bangladesh                                                80\n",
       "Kazakhstan                                                71\n",
       "Democratic Republic of the Congo                          70\n",
       "Austria                                                   68\n",
       "Argentina                                                 68\n",
       "Côte d'Ivoire                                             67\n",
       "Ecuador                                                   66\n",
       "Madagascar                                                65\n",
       "Bulgaria                                                  65\n",
       "Cameroon                                                  64\n",
       "Uganda                                                    63\n",
       "Slovakia                                                  62\n",
       "Viet Nam                                                  60\n",
       "Kenya                                                     60\n",
       "Denmark                                                   60\n",
       "Myanmar                                                   59\n",
       "Ghana                                                     58\n",
       "Uzbekistan                                                58\n",
       "Afghanistan                                               49\n",
       "Israel                                                    47\n",
       "Republic of North Macedonia                               46\n",
       "Sri Lanka                                                 46\n",
       "Tunisia                                                   44\n",
       "Zambia                                                    42\n",
       "Egypt                                                     40\n",
       "Lithuania                                                 38\n",
       "Azerbaijan                                                38\n",
       "Dominican Republic                                        38\n",
       "Costa Rica                                                38\n",
       "Nicaragua                                                 37\n",
       "Bosnia and Herzegovina                                    36\n",
       "Burkina Faso                                              34\n",
       "Senegal                                                   33\n",
       "Bolivia (Plurinational State of)                          33\n",
       "El Salvador                                               33\n",
       "Chad                                                      33\n",
       "Nepal                                                     33\n",
       "Albania                                                   32\n",
       "Ireland                                                   31\n",
       "Croatia                                                   31\n",
       "Central African Republic                                  30\n",
       "Tajikistan                                                29\n",
       "Niger                                                     29\n",
       "Sudan                                                     28\n",
       "Honduras                                                  28\n",
       "Republic of Moldova                                       28\n",
       "Angola                                                    27\n",
       "Zimbabwe                                                  27\n",
       "Benin                                                     27\n",
       "Panama                                                    27\n",
       "Uruguay                                                   26\n",
       "Paraguay                                                  26\n",
       "Mali                                                      25\n",
       "Libya                                                     25\n",
       "Mozambique                                                23\n",
       "Latvia                                                    22\n",
       "Belarus                                                   22\n",
       "New Zealand                                               22\n",
       "Armenia                                                   22\n",
       "Norway                                                    21\n",
       "Guinea                                                    21\n",
       "Malawi                                                    21\n",
       "Georgia                                                   20\n",
       "Togo                                                      19\n",
       "Botswana                                                  19\n",
       "Morocco                                                   19\n",
       "Haiti                                                     18\n",
       "Turkmenistan                                              18\n",
       "Somalia                                                   18\n",
       "Mauritius                                                 18\n",
       "Namibia                                                   17\n",
       "Slovenia                                                  16\n",
       "Syrian Arab Republic                                      15\n",
       "Sierra Leone                                              15\n",
       "Papua New Guinea                                          15\n",
       "Iraq                                                      14\n",
       "Saudi Arabia                                              14\n",
       "Burundi                                                   13\n",
       "Kyrgyzstan                                                13\n",
       "Rwanda                                                    13\n",
       "South Sudan                                               12\n",
       "Congo                                                     12\n",
       "Estonia                                                   12\n",
       "Jordan                                                    12\n",
       "Algeria                                                   12\n",
       "Cambodia                                                  12\n",
       "Malta                                                     11\n",
       "Mongolia                                                  10\n",
       "Gabon                                                     10\n",
       "Liberia                                                    9\n",
       "Gambia                                                     9\n",
       "Trinidad and Tobago                                        8\n",
       "Lao People's Democratic Republic                           8\n",
       "Yemen                                                      7\n",
       "Cyprus                                                     6\n",
       "Oman                                                       6\n",
       "Lebanon                                                    6\n",
       "Jamaica                                                    6\n",
       "Lesotho                                                    5\n",
       "Eritrea                                                    5\n",
       "Guinea-Bissau                                              4\n",
       "Equatorial Guinea                                          4\n",
       "Guyana                                                     4\n",
       "Mauritania                                                 4\n",
       "Montenegro                                                 4\n",
       "Suriname                                                   3\n",
       "Belize                                                     3\n",
       "Iceland                                                    3\n",
       "Comoros                                                    3\n",
       "Andorra                                                    3\n",
       "Kingdom of Eswatini                                        3\n",
       "Kuwait                                                     3\n",
       "United Arab Emirates                                       3\n",
       "Cabo Verde                                                 2\n",
       "Bhutan                                                     2\n",
       "Luxembourg                                                 2\n",
       "Qatar                                                      2\n",
       "Seychelles                                                 1\n",
       "State of Palestine                                         1\n",
       "Saint Kitts and Nevis                                      1\n",
       "Bahrain                                                    1\n",
       "Maldives                                                   1\n",
       "Singapore                                                  1\n",
       "Barbados                                                   1\n",
       "Palau                                                      1\n",
       "Aruba                                                      1\n",
       "Vanuatu                                                    1\n",
       "Solomon Islands                                            1\n",
       "Republic of Korea                                          1\n",
       "Saint Lucia                                                1\n",
       "Monaco                                                     1\n",
       "Name: Country, dtype: int64"
      ]
     },
     "execution_count": 27,
     "metadata": {},
     "output_type": "execute_result"
    }
   ],
   "source": [
    "gap['Country'].value_counts(ascending=False)"
   ]
  },
  {
   "cell_type": "markdown",
   "id": "58801a87",
   "metadata": {},
   "source": [
    "## Objectives"
   ]
  },
  {
   "cell_type": "markdown",
   "id": "845f394a",
   "metadata": {},
   "source": [
    "> **Ensure Proper Country Names**\n",
    "\n",
    "> **Top 10 Countries having high AQI Value**\n",
    "\n",
    "> **Top 10 Countries having low AQI Values**\n",
    "\n",
    "> **High AQI Levels in India and Why?**\n",
    "\n",
    "> **Low AQI Levels in India and Why?**"
   ]
  },
  {
   "cell_type": "markdown",
   "id": "ac724435",
   "metadata": {},
   "source": [
    "## Ideas"
   ]
  },
  {
   "cell_type": "markdown",
   "id": "c24ed433",
   "metadata": {},
   "source": [
    "> **Create a new feature called \"Continent\" to analyse the AQI Quality on each Continent**"
   ]
  },
  {
   "cell_type": "code",
   "execution_count": null,
   "id": "31fbc4b2",
   "metadata": {},
   "outputs": [],
   "source": []
  }
 ],
 "metadata": {
  "kernelspec": {
   "display_name": "Python 3 (ipykernel)",
   "language": "python",
   "name": "python3"
  },
  "language_info": {
   "codemirror_mode": {
    "name": "ipython",
    "version": 3
   },
   "file_extension": ".py",
   "mimetype": "text/x-python",
   "name": "python",
   "nbconvert_exporter": "python",
   "pygments_lexer": "ipython3",
   "version": "3.10.9"
  }
 },
 "nbformat": 4,
 "nbformat_minor": 5
}

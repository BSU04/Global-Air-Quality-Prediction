{
 "cells": [
  {
   "cell_type": "markdown",
   "id": "8f9855ca",
   "metadata": {},
   "source": [
    "## Libraries"
   ]
  },
  {
   "cell_type": "markdown",
   "id": "92dbe83d",
   "metadata": {},
   "source": [
    "Importing the necessary libraries for the project"
   ]
  },
  {
   "cell_type": "code",
   "execution_count": 3,
   "id": "6b737702",
   "metadata": {},
   "outputs": [],
   "source": [
    "import os\n",
    "import pandas as pd\n",
    "import numpy as np\n",
    "import matplotlib.pyplot as plt\n",
    "import seaborn as sns\n",
    "%matplotlib inline\n",
    "import warnings\n",
    "warnings.filterwarnings('ignore')\n",
    "\n",
    "import missingno as msn\n",
    "import plotly.express as px"
   ]
  },
  {
   "cell_type": "markdown",
   "id": "6b0b8da8",
   "metadata": {},
   "source": [
    "## Data"
   ]
  },
  {
   "cell_type": "markdown",
   "id": "dfa336e5",
   "metadata": {},
   "source": [
    "The read_csv() of the pandas library is used to read the dataset global air pollution dataset.csv"
   ]
  },
  {
   "cell_type": "code",
   "execution_count": 4,
   "id": "448920ae",
   "metadata": {},
   "outputs": [],
   "source": [
    "gap = pd.read_csv(\"global air pollution dataset.csv\")"
   ]
  },
  {
   "cell_type": "markdown",
   "id": "ea86e80b",
   "metadata": {},
   "source": [
    "# Exploratory Data Analysis"
   ]
  },
  {
   "cell_type": "markdown",
   "id": "1b58aec8",
   "metadata": {},
   "source": [
    "Let's take a look at the initial view of the dataset"
   ]
  },
  {
   "cell_type": "code",
   "execution_count": 5,
   "id": "4cfe4454",
   "metadata": {},
   "outputs": [
    {
     "data": {
      "text/html": [
       "<div>\n",
       "<style scoped>\n",
       "    .dataframe tbody tr th:only-of-type {\n",
       "        vertical-align: middle;\n",
       "    }\n",
       "\n",
       "    .dataframe tbody tr th {\n",
       "        vertical-align: top;\n",
       "    }\n",
       "\n",
       "    .dataframe thead th {\n",
       "        text-align: right;\n",
       "    }\n",
       "</style>\n",
       "<table border=\"1\" class=\"dataframe\">\n",
       "  <thead>\n",
       "    <tr style=\"text-align: right;\">\n",
       "      <th></th>\n",
       "      <th>Country</th>\n",
       "      <th>City</th>\n",
       "      <th>AQI Value</th>\n",
       "      <th>AQI Category</th>\n",
       "      <th>CO AQI Value</th>\n",
       "      <th>CO AQI Category</th>\n",
       "      <th>Ozone AQI Value</th>\n",
       "      <th>Ozone AQI Category</th>\n",
       "      <th>NO2 AQI Value</th>\n",
       "      <th>NO2 AQI Category</th>\n",
       "      <th>PM2.5 AQI Value</th>\n",
       "      <th>PM2.5 AQI Category</th>\n",
       "    </tr>\n",
       "  </thead>\n",
       "  <tbody>\n",
       "    <tr>\n",
       "      <th>0</th>\n",
       "      <td>Russian Federation</td>\n",
       "      <td>Praskoveya</td>\n",
       "      <td>51</td>\n",
       "      <td>Moderate</td>\n",
       "      <td>1</td>\n",
       "      <td>Good</td>\n",
       "      <td>36</td>\n",
       "      <td>Good</td>\n",
       "      <td>0</td>\n",
       "      <td>Good</td>\n",
       "      <td>51</td>\n",
       "      <td>Moderate</td>\n",
       "    </tr>\n",
       "    <tr>\n",
       "      <th>1</th>\n",
       "      <td>Brazil</td>\n",
       "      <td>Presidente Dutra</td>\n",
       "      <td>41</td>\n",
       "      <td>Good</td>\n",
       "      <td>1</td>\n",
       "      <td>Good</td>\n",
       "      <td>5</td>\n",
       "      <td>Good</td>\n",
       "      <td>1</td>\n",
       "      <td>Good</td>\n",
       "      <td>41</td>\n",
       "      <td>Good</td>\n",
       "    </tr>\n",
       "    <tr>\n",
       "      <th>2</th>\n",
       "      <td>Italy</td>\n",
       "      <td>Priolo Gargallo</td>\n",
       "      <td>66</td>\n",
       "      <td>Moderate</td>\n",
       "      <td>1</td>\n",
       "      <td>Good</td>\n",
       "      <td>39</td>\n",
       "      <td>Good</td>\n",
       "      <td>2</td>\n",
       "      <td>Good</td>\n",
       "      <td>66</td>\n",
       "      <td>Moderate</td>\n",
       "    </tr>\n",
       "    <tr>\n",
       "      <th>3</th>\n",
       "      <td>Poland</td>\n",
       "      <td>Przasnysz</td>\n",
       "      <td>34</td>\n",
       "      <td>Good</td>\n",
       "      <td>1</td>\n",
       "      <td>Good</td>\n",
       "      <td>34</td>\n",
       "      <td>Good</td>\n",
       "      <td>0</td>\n",
       "      <td>Good</td>\n",
       "      <td>20</td>\n",
       "      <td>Good</td>\n",
       "    </tr>\n",
       "    <tr>\n",
       "      <th>4</th>\n",
       "      <td>France</td>\n",
       "      <td>Punaauia</td>\n",
       "      <td>22</td>\n",
       "      <td>Good</td>\n",
       "      <td>0</td>\n",
       "      <td>Good</td>\n",
       "      <td>22</td>\n",
       "      <td>Good</td>\n",
       "      <td>0</td>\n",
       "      <td>Good</td>\n",
       "      <td>6</td>\n",
       "      <td>Good</td>\n",
       "    </tr>\n",
       "  </tbody>\n",
       "</table>\n",
       "</div>"
      ],
      "text/plain": [
       "              Country              City  AQI Value AQI Category  CO AQI Value  \\\n",
       "0  Russian Federation        Praskoveya         51     Moderate             1   \n",
       "1              Brazil  Presidente Dutra         41         Good             1   \n",
       "2               Italy   Priolo Gargallo         66     Moderate             1   \n",
       "3              Poland         Przasnysz         34         Good             1   \n",
       "4              France          Punaauia         22         Good             0   \n",
       "\n",
       "  CO AQI Category  Ozone AQI Value Ozone AQI Category  NO2 AQI Value  \\\n",
       "0            Good               36               Good              0   \n",
       "1            Good                5               Good              1   \n",
       "2            Good               39               Good              2   \n",
       "3            Good               34               Good              0   \n",
       "4            Good               22               Good              0   \n",
       "\n",
       "  NO2 AQI Category  PM2.5 AQI Value PM2.5 AQI Category  \n",
       "0             Good               51           Moderate  \n",
       "1             Good               41               Good  \n",
       "2             Good               66           Moderate  \n",
       "3             Good               20               Good  \n",
       "4             Good                6               Good  "
      ]
     },
     "execution_count": 5,
     "metadata": {},
     "output_type": "execute_result"
    }
   ],
   "source": [
    "gap.head()"
   ]
  },
  {
   "cell_type": "code",
   "execution_count": 6,
   "id": "c34f4973",
   "metadata": {},
   "outputs": [
    {
     "data": {
      "text/plain": [
       "(23463, 12)"
      ]
     },
     "execution_count": 6,
     "metadata": {},
     "output_type": "execute_result"
    }
   ],
   "source": [
    "gap.shape"
   ]
  },
  {
   "cell_type": "code",
   "execution_count": 7,
   "id": "7d9eaaec",
   "metadata": {},
   "outputs": [
    {
     "data": {
      "text/plain": [
       "object    7\n",
       "int64     5\n",
       "dtype: int64"
      ]
     },
     "execution_count": 7,
     "metadata": {},
     "output_type": "execute_result"
    }
   ],
   "source": [
    "gap.dtypes.value_counts()"
   ]
  },
  {
   "cell_type": "markdown",
   "id": "3e4246f2",
   "metadata": {},
   "source": [
    "The dataset consists of 23,463 records and 12 features\n",
    "\n",
    "Out of those 12 features 5 of them are Numerical and 7 are Categorical"
   ]
  },
  {
   "cell_type": "markdown",
   "id": "d7ae0b48",
   "metadata": {},
   "source": [
    "## About "
   ]
  },
  {
   "cell_type": "markdown",
   "id": "5992567f",
   "metadata": {},
   "source": [
    "> The Features of the dataset are to be fully understood inorder to decide which data are to be taken for further analysis.\n",
    "\n",
    "> Learning the features is essential for preprocessing the data if there exists incorrect entries, missing values, duplicated values and incorrect string formatting etc.\n",
    "\n",
    "> Hence let's take a look at what each feature in the dataset represents"
   ]
  },
  {
   "cell_type": "markdown",
   "id": "61868538",
   "metadata": {},
   "source": [
    "**Country** - Name of the country\n",
    "\n",
    "**City** - Name of the city\n",
    "\n",
    "**Air quality index (AQI)** - An air quality index (AQI) indicates how polluted the air currently is or how polluted it is forecast to become. The AQI is calculated based on the levels of several air pollutants, including particulate matter (PM2.5 and PM10), ozone (O3), nitrogen dioxide (NO2), sulfur dioxide (SO2), and carbon monoxide (CO).\n",
    "\n",
    "**AQI Category** -  Overall AQI category of the city\n",
    "\n",
    "**CO AQI** -  CO AQI specifically refers to the Air Quality Index value calculated based on the levels of carbon monoxide in the air. Carbon monoxide is a poisonous gas that is emitted by vehicles, generators, and other combustion sources. Carbon Monoxide is a colorless and odorless gas. Outdoor, it is emitted in the air above all by cars, trucks and other vehicles or machineries that burn fossil fuels. Such items like kerosene and gas space heaters, gas stoves also release CO affecting indoor air quality.\n",
    "\n",
    "**CO AQI Value** : AQI value of Carbon Monoxide of the city\n",
    "\n",
    "**Ozone AQI** - Ozone AQI refers to the Air Quality Index value calculated based on the levels of ozone (O3) in the air. Ozone is a highly reactive gas that is created by the interaction of sunlight with pollutants emitted by vehicles, industrial processes, and other sources.Furthermore it can reduce lung function and worsen bronchitis, emphysema, and asthma. Ozone affects also vegetation and ecosystems. In particular, it damages sensitive vegetation during the growing season.\n",
    "\n",
    "**Ozone AQI Value** : AQI value of Ozone of the city\n",
    "\n",
    "**NO2 AQI** - NO2 AQI refers to the Air Quality Index value calculated based on the levels of nitrogen dioxide (NO2) in the air. Nitrogen dioxide is a highly reactive gas that is emitted by vehicles, power plants, and other combustion sources. Exposure over short periods can aggravate respiratory diseases, like asthma. Longer exposures may contribute to develoment of asthma and respiratory infections. People with asthma, children and the elderly are at greater risk for the health effects of NO2.\n",
    "\n",
    "**NO2 AQI Value** : AQI value of Nitrogen Dioxide of the city\n",
    "\n",
    "**PM2.5** - Atmospheric Particulate Matter, also known as atmospheric aerosol particles, are complex mixtures of small solid and liquid matter that get into the air. If inhaled they can cause serious heart and lungs problem. They have been classified as **group 1 carcinogen by the International Agengy for Research on Cancer (IARC)**.It can come from a variety of sources, including vehicle exhaust, **power plants**, wildfires, and dust. PM2.5 refers to those particles with a diameter of 2.5 micrometers or less.\n",
    "\n",
    "**PM2.5 AQI Value** : AQI value of Particulate Matter with a diameter of 2.5 micrometers or less of the city\n",
    "\n",
    "https://acp.copernicus.org/preprints/acp-2020-672/acp-2020-672-manuscript-version4.pdf\n",
    "\n",
    "https://www.google.com/search?q=pm+value+of+plastic+burn&client=firefox-b-d&ei=DU4kZMC8O8ONseMP_7CvuAo&ved=0ahUKEwiA95LAr4H-AhXDRmwGHX_YC6cQ4dUDCA4&uact=5&oq=pm+value+of+plastic+burn&gs_lcp=Cgxnd3Mtd2l6LXNlcnAQAzIFCCEQoAEyBQghEKABOgoIABBHENYEELADOhkIABCKBRDqAhC0AhCKAxC3AxDUAxDlAhgBOhMIABCPARDqAhC0AhCMAxDlAhgCOhMILhCPARDqAhC0AhCMAxDlAhgCOgcIABCKBRBDOggIABCKBRCRAjoLCC4QigUQsQMQgwE6CwgAEIAEELEDEIMBOg0IABCKBRCxAxCDARBDOggILhCABBCxAzoLCC4QgAQQsQMQ1AI6CwguEIAEELEDEIMBOg0ILhCKBRCxAxCDARBDOgUILhCABDoJCAAQigUQChBDOg0ILhCKBRDHARCvARBDOggIABCABBCxAzoFCAAQgAQ6DQguEIAEEMcBEK8BEAo6EAguEK8BEMcBELEDEIAEEAo6BggAEBYQHjoICAAQFhAeEA86CAgAEIoFEIYDOggIIRAWEB4QHToHCCEQoAEQCjoKCCEQFhAeEA8QHUoECEEYAEoFCEASATFQ1AZY4llgolxoCXABeACAAZgBiAGdGpIBBDAuMjeYAQCgAQGwARTIAQjAAQHaAQQIARgH2gEGCAIQARgK&sclient=gws-wiz-serp\n",
    "\n",
    "\n",
    "\n",
    "\n"
   ]
  },
  {
   "cell_type": "markdown",
   "id": "26b1c0a9",
   "metadata": {},
   "source": [
    "Now let's take a look at the domain clases of AQI Category along with it's corresponding range"
   ]
  },
  {
   "cell_type": "markdown",
   "id": "d70cfce5",
   "metadata": {},
   "source": [
    "## AQI Value Indications"
   ]
  },
  {
   "cell_type": "markdown",
   "id": "ef5fb707",
   "metadata": {},
   "source": [
    "The AQI Value ranging from: \n",
    "\n",
    "> 0 to 50 - Good \n",
    "\n",
    "> 51 to 100 - Moderate\n",
    "\n",
    "> 101 to 150 - Unhealthy for sensitive groups\n",
    "\n",
    "> 151 to 200 - Unhealthy\n",
    "\n",
    "> 201 to 300 - Very Unhealthy\n",
    "\n",
    "> 301 to 500 - Hazardous"
   ]
  },
  {
   "cell_type": "markdown",
   "id": "6259b411",
   "metadata": {},
   "source": [
    "## Duplicates"
   ]
  },
  {
   "cell_type": "code",
   "execution_count": 63,
   "id": "4de9f010",
   "metadata": {
    "scrolled": true
   },
   "outputs": [
    {
     "data": {
      "text/html": [
       "<div>\n",
       "<style scoped>\n",
       "    .dataframe tbody tr th:only-of-type {\n",
       "        vertical-align: middle;\n",
       "    }\n",
       "\n",
       "    .dataframe tbody tr th {\n",
       "        vertical-align: top;\n",
       "    }\n",
       "\n",
       "    .dataframe thead th {\n",
       "        text-align: right;\n",
       "    }\n",
       "</style>\n",
       "<table border=\"1\" class=\"dataframe\">\n",
       "  <thead>\n",
       "    <tr style=\"text-align: right;\">\n",
       "      <th></th>\n",
       "      <th>Country</th>\n",
       "      <th>City</th>\n",
       "      <th>AQI Value</th>\n",
       "      <th>AQI Category</th>\n",
       "      <th>CO AQI Value</th>\n",
       "      <th>CO AQI Category</th>\n",
       "      <th>Ozone AQI Value</th>\n",
       "      <th>Ozone AQI Category</th>\n",
       "      <th>NO2 AQI Value</th>\n",
       "      <th>NO2 AQI Category</th>\n",
       "      <th>PM2.5 AQI Value</th>\n",
       "      <th>PM2.5 AQI Category</th>\n",
       "    </tr>\n",
       "  </thead>\n",
       "  <tbody>\n",
       "  </tbody>\n",
       "</table>\n",
       "</div>"
      ],
      "text/plain": [
       "Empty DataFrame\n",
       "Columns: [Country, City, AQI Value, AQI Category, CO AQI Value, CO AQI Category, Ozone AQI Value, Ozone AQI Category, NO2 AQI Value, NO2 AQI Category, PM2.5 AQI Value, PM2.5 AQI Category]\n",
       "Index: []"
      ]
     },
     "execution_count": 63,
     "metadata": {},
     "output_type": "execute_result"
    }
   ],
   "source": [
    "# check for duplicate rows\n",
    "dup = gap[gap.duplicated()]\n",
    "dup"
   ]
  },
  {
   "cell_type": "markdown",
   "id": "08c75917",
   "metadata": {},
   "source": [
    "No duplicate rows are to found on the dataset"
   ]
  },
  {
   "cell_type": "markdown",
   "id": "3eb19929",
   "metadata": {},
   "source": [
    "## Missing Values"
   ]
  },
  {
   "cell_type": "markdown",
   "id": "9a896bdd",
   "metadata": {},
   "source": [
    "Now let's check for missing values in the dataset"
   ]
  },
  {
   "cell_type": "code",
   "execution_count": 9,
   "id": "e0bea4ed",
   "metadata": {
    "scrolled": true
   },
   "outputs": [
    {
     "data": {
      "text/plain": [
       "Country               427\n",
       "City                    1\n",
       "AQI Value               0\n",
       "AQI Category            0\n",
       "CO AQI Value            0\n",
       "CO AQI Category         0\n",
       "Ozone AQI Value         0\n",
       "Ozone AQI Category      0\n",
       "NO2 AQI Value           0\n",
       "NO2 AQI Category        0\n",
       "PM2.5 AQI Value         0\n",
       "PM2.5 AQI Category      0\n",
       "dtype: int64"
      ]
     },
     "execution_count": 9,
     "metadata": {},
     "output_type": "execute_result"
    }
   ],
   "source": [
    "# check for missing values\n",
    "gap.isnull().sum()"
   ]
  },
  {
   "cell_type": "markdown",
   "id": "2c7279bb",
   "metadata": {},
   "source": [
    "The dataset contains missing values of about 2% which can lead to wrong inferences therefore imputation is necessary before proceeding into analysis"
   ]
  },
  {
   "cell_type": "code",
   "execution_count": 75,
   "id": "2a200da2",
   "metadata": {},
   "outputs": [
    {
     "name": "stdout",
     "output_type": "stream",
     "text": [
      "Missing value count:\n",
      "--------------------\n",
      "Country: - 427\n",
      "City: - 1\n"
     ]
    }
   ],
   "source": [
    "print(\"Missing value count:\")\n",
    "print(\"--------------------\")\n",
    "print(\"Country: - 427\")\n",
    "print(\"City: - 1\")"
   ]
  },
  {
   "cell_type": "markdown",
   "id": "86cd88b5",
   "metadata": {},
   "source": [
    "Most Countries has city names which are similar hence even if the missing values are manually imputed with the help of city names it may not be accurate enough and may deviate the course of analysis.\n",
    "\n",
    "In the case of City it cannot be imputed as it is hard to find the city just by the name of the country  \n",
    "\n",
    "Another way is drop the records having missing values but this may affect the analysis if the data is smaller but since our \n",
    "current data is big enough rows are dropped.\n"
   ]
  },
  {
   "cell_type": "code",
   "execution_count": 29,
   "id": "5fb6b3e8",
   "metadata": {},
   "outputs": [],
   "source": [
    "# dropping the records\n",
    "gap.dropna(axis=0, how='any',inplace=True)"
   ]
  },
  {
   "cell_type": "markdown",
   "id": "bd8408a1",
   "metadata": {},
   "source": [
    "Let's take a look at the new dimensions of the dataset after dropping the records"
   ]
  },
  {
   "cell_type": "code",
   "execution_count": 20,
   "id": "f815b3b3",
   "metadata": {},
   "outputs": [
    {
     "name": "stdout",
     "output_type": "stream",
     "text": [
      "New dimensions of the Dataset:  (23035, 12)\n",
      "The Records got reduced from 23,463 to 23,035\n"
     ]
    }
   ],
   "source": [
    "# new dimension\n",
    "new_dim = gap.shape\n",
    "print(\"New dimensions of the Dataset: \", new_dim)\n",
    "print(\"The Records got reduced from 23,463 to 23,035\")"
   ]
  },
  {
   "cell_type": "markdown",
   "id": "e10c05ee",
   "metadata": {},
   "source": [
    "Ensuring whether all the features are assigned with proper datatypes"
   ]
  },
  {
   "cell_type": "markdown",
   "id": "1f05b939",
   "metadata": {},
   "source": [
    "## Datatypes"
   ]
  },
  {
   "cell_type": "code",
   "execution_count": 38,
   "id": "0e1be3ae",
   "metadata": {},
   "outputs": [
    {
     "data": {
      "text/plain": [
       "Country               object\n",
       "City                  object\n",
       "AQI Value              int64\n",
       "AQI Category          object\n",
       "CO AQI Value           int64\n",
       "CO AQI Category       object\n",
       "Ozone AQI Value        int64\n",
       "Ozone AQI Category    object\n",
       "NO2 AQI Value          int64\n",
       "NO2 AQI Category      object\n",
       "PM2.5 AQI Value        int64\n",
       "PM2.5 AQI Category    object\n",
       "dtype: object"
      ]
     },
     "execution_count": 38,
     "metadata": {},
     "output_type": "execute_result"
    }
   ],
   "source": [
    "# check for proper datatypes\n",
    "gap.dtypes"
   ]
  },
  {
   "cell_type": "markdown",
   "id": "6b6655e1",
   "metadata": {},
   "source": [
    "## Renaming the Country Values"
   ]
  },
  {
   "cell_type": "code",
   "execution_count": 24,
   "id": "5772ed18",
   "metadata": {},
   "outputs": [
    {
     "data": {
      "text/plain": [
       "array(['Russian Federation', 'Brazil', 'Italy', 'Poland', 'France',\n",
       "       'United States of America', 'Germany', 'Belgium', 'Egypt', 'China',\n",
       "       'Netherlands', 'India', 'Pakistan', 'Republic of North Macedonia',\n",
       "       'Colombia', 'Romania', 'Indonesia', 'Finland', 'South Africa',\n",
       "       'United Kingdom of Great Britain and Northern Ireland',\n",
       "       'United Republic of Tanzania', 'Haiti', 'Somalia', 'Philippines',\n",
       "       'Latvia', 'Chad', 'New Zealand', 'Tunisia', 'Viet Nam',\n",
       "       'Iran (Islamic Republic of)', 'Mexico', 'Japan', 'El Salvador',\n",
       "       'Bulgaria', 'Nigeria', 'South Sudan', 'Guatemala', 'Ireland',\n",
       "       'Turkey', 'Peru', 'Democratic Republic of the Congo', 'Canada',\n",
       "       'Switzerland', 'Denmark', 'Cameroon', 'Australia', 'Portugal',\n",
       "       \"Côte d'Ivoire\", 'Sweden', 'Ethiopia', 'Thailand', 'Hungary',\n",
       "       'Kazakhstan', 'Israel', 'Spain', 'Myanmar', 'Papua New Guinea',\n",
       "       'Madagascar', 'Lithuania', 'Ghana', 'Azerbaijan', 'Armenia',\n",
       "       'Ukraine', 'Malaysia', 'Serbia', 'Slovakia', 'Gambia', 'Ecuador',\n",
       "       'Bosnia and Herzegovina', 'Czechia', 'Argentina',\n",
       "       'Dominican Republic', 'Guinea', 'Bolivia (Plurinational State of)',\n",
       "       'Bangladesh', 'Sudan', 'Chile', 'Panama', 'Congo', 'Kyrgyzstan',\n",
       "       'Mauritius', 'Greece', 'Malawi', 'Cuba', 'Saudi Arabia', 'Benin',\n",
       "       'Sierra Leone', 'Lebanon', 'Uruguay', 'Namibia', 'Albania',\n",
       "       'Guyana', 'Senegal', 'Lesotho', 'Mongolia',\n",
       "       'Venezuela (Bolivarian Republic of)', 'Solomon Islands',\n",
       "       'Paraguay', 'Zimbabwe', 'Austria', 'Croatia', 'Honduras',\n",
       "       'Cambodia', 'Uganda', 'Republic of Moldova', 'Angola',\n",
       "       'Kingdom of Eswatini', 'Afghanistan', 'Uzbekistan', 'Zambia',\n",
       "       'Morocco', 'Belarus', 'Norway', 'Malta', 'Rwanda', 'Sri Lanka',\n",
       "       'Botswana', 'Burundi', 'Jamaica', 'Central African Republic',\n",
       "       'Kenya', 'Niger', 'Mali', 'Slovenia', 'Costa Rica', 'Nicaragua',\n",
       "       'Republic of Korea', 'Burkina Faso', 'Cabo Verde', 'Mozambique',\n",
       "       'Mauritania', 'Guinea-Bissau', 'United Arab Emirates', 'Eritrea',\n",
       "       'Tajikistan', 'Barbados', 'Algeria', 'Iraq',\n",
       "       'Syrian Arab Republic', 'Gabon', 'Liberia',\n",
       "       \"Lao People's Democratic Republic\", 'Bhutan', 'Yemen', 'Togo',\n",
       "       'Turkmenistan', 'Saint Lucia', 'Kuwait', 'Libya', 'Georgia',\n",
       "       'Nepal', 'Estonia', 'Trinidad and Tobago', 'Jordan', 'Cyprus',\n",
       "       'Montenegro', 'Comoros', 'Iceland', 'Andorra', 'Oman',\n",
       "       'Equatorial Guinea', 'Luxembourg', 'Vanuatu', 'Aruba', 'Belize',\n",
       "       'Qatar', 'Palau', 'Suriname', 'Singapore', 'Maldives', 'Bahrain',\n",
       "       'Seychelles', 'State of Palestine', 'Saint Kitts and Nevis',\n",
       "       'Monaco'], dtype=object)"
      ]
     },
     "execution_count": 24,
     "metadata": {},
     "output_type": "execute_result"
    }
   ],
   "source": [
    "gap['Country'].unique()"
   ]
  },
  {
   "cell_type": "markdown",
   "id": "8c3364e1",
   "metadata": {},
   "source": [
    "Values in the column 'Country' needs to be standardized.\n",
    "\n",
    "Let's change the values of the column 'Country' into a proper format for analysis."
   ]
  },
  {
   "cell_type": "markdown",
   "id": "7d1373cf",
   "metadata": {},
   "source": [
    "> Russian Federation : Russia\n",
    "\n",
    "> United States of America : USA\n",
    "\n",
    "> Republic of North Macedonia : North Macedonia\n",
    "\n",
    "> United Kingdom of Great Britain and Northern Ireland : UK \n",
    "\n",
    "> United Republic of Tanzania : Tanzania\n",
    "\n",
    "> Viet Nam : Vietnam\n",
    "\n",
    "> Iran (Islamic Republic of) : Iran\n",
    "\n",
    "> Côte d'Ivoire : Ivory Coast\n",
    "\n",
    "> Bolivia (Plurinational State of) : Bolivia\n",
    "\n",
    "> Venezuela (Bolivarian Republic of) : Venezuela\n",
    "\n",
    "> Kingdom of Eswatini : Eswatini\n",
    "\n",
    "> United Arab Emirates : UAE\n",
    "\n",
    "> Syrian Arab Republic : Syria\n",
    "\n",
    "> Lao People's Democratic Republic : Laos\n",
    "\n",
    "> Republic of Korea : South Korea\n",
    "\n",
    "> Republic of Moldova : Moldova\n",
    "\n",
    "> State of Palestine : Palestine"
   ]
  },
  {
   "cell_type": "code",
   "execution_count": 25,
   "id": "22f904d3",
   "metadata": {},
   "outputs": [],
   "source": [
    "# renaming the columns\n",
    "gap['Country'].replace({'Russian Federation': 'Russia','United States of America':'USA',\n",
    "                        'Republic of North Macedonia':'North Macedonia',\n",
    "                        'United Kingdom of Great Britain and Northern Ireland':'UK',\n",
    "                        'United Republic of Tanzania':'Tanzania','Viet Nam':'Vietnam',\n",
    "                        'Iran (Islamic Republic of)':'Iran',\"Côte d'Ivoire\":\"Ivory Coast\",\n",
    "                        'Bolivia (Plurinational State of)':'Bolivia',\n",
    "                        'Venezuela (Bolivarian Republic of)':'Venezuela','Kingdom of Eswatini':'Eswatini',\n",
    "                        'United Arab Emirates':'UAE','Syrian Arab Republic':'Syria',\n",
    "                        \"Lao People's Democratic Republic\":\"Laos\",'Republic of Korea':'South Korea',\n",
    "                        'Republic of Moldova':'Moldova','State of Palestine':'Palestine'},inplace=True)"
   ]
  },
  {
   "cell_type": "code",
   "execution_count": 29,
   "id": "1d7ca259",
   "metadata": {
    "scrolled": false
   },
   "outputs": [
    {
     "data": {
      "text/plain": [
       "array(['Russia', 'Brazil', 'Italy', 'Poland', 'France', 'USA', 'Germany',\n",
       "       'Belgium', 'Egypt', 'China', 'Netherlands', 'India', 'Pakistan',\n",
       "       'North Macedonia', 'Colombia', 'Romania', 'Indonesia', 'Finland',\n",
       "       'South Africa', 'UK', 'Tanzania', 'Haiti', 'Somalia',\n",
       "       'Philippines', 'Latvia', 'Chad', 'New Zealand', 'Tunisia',\n",
       "       'Vietnam', 'Iran', 'Mexico', 'Japan', 'El Salvador', 'Bulgaria',\n",
       "       'Nigeria', 'South Sudan', 'Guatemala', 'Ireland', 'Turkey', 'Peru',\n",
       "       'Democratic Republic of the Congo', 'Canada', 'Switzerland',\n",
       "       'Denmark', 'Cameroon', 'Australia', 'Portugal', 'Ivory Coast',\n",
       "       'Sweden', 'Ethiopia', 'Thailand', 'Hungary', 'Kazakhstan',\n",
       "       'Israel', 'Spain', 'Myanmar', 'Papua New Guinea', 'Madagascar',\n",
       "       'Lithuania', 'Ghana', 'Azerbaijan', 'Armenia', 'Ukraine',\n",
       "       'Malaysia', 'Serbia', 'Slovakia', 'Gambia', 'Ecuador',\n",
       "       'Bosnia and Herzegovina', 'Czechia', 'Argentina',\n",
       "       'Dominican Republic', 'Guinea', 'Bolivia', 'Bangladesh', 'Sudan',\n",
       "       'Chile', 'Panama', 'Congo', 'Kyrgyzstan', 'Mauritius', 'Greece',\n",
       "       'Malawi', 'Cuba', 'Saudi Arabia', 'Benin', 'Sierra Leone',\n",
       "       'Lebanon', 'Uruguay', 'Namibia', 'Albania', 'Guyana', 'Senegal',\n",
       "       'Lesotho', 'Mongolia', 'Venezuela', 'Solomon Islands', 'Paraguay',\n",
       "       'Zimbabwe', 'Austria', 'Croatia', 'Honduras', 'Cambodia', 'Uganda',\n",
       "       'Moldova', 'Angola', 'Eswatini', 'Afghanistan', 'Uzbekistan',\n",
       "       'Zambia', 'Morocco', 'Belarus', 'Norway', 'Malta', 'Rwanda',\n",
       "       'Sri Lanka', 'Botswana', 'Burundi', 'Jamaica',\n",
       "       'Central African Republic', 'Kenya', 'Niger', 'Mali', 'Slovenia',\n",
       "       'Costa Rica', 'Nicaragua', 'South Korea', 'Burkina Faso',\n",
       "       'Cabo Verde', 'Mozambique', 'Mauritania', 'Guinea-Bissau', 'UAE',\n",
       "       'Eritrea', 'Tajikistan', 'Barbados', 'Algeria', 'Iraq', 'Syria',\n",
       "       'Gabon', 'Liberia', 'Laos', 'Bhutan', 'Yemen', 'Togo',\n",
       "       'Turkmenistan', 'Saint Lucia', 'Kuwait', 'Libya', 'Georgia',\n",
       "       'Nepal', 'Estonia', 'Trinidad and Tobago', 'Jordan', 'Cyprus',\n",
       "       'Montenegro', 'Comoros', 'Iceland', 'Andorra', 'Oman',\n",
       "       'Equatorial Guinea', 'Luxembourg', 'Vanuatu', 'Aruba', 'Belize',\n",
       "       'Qatar', 'Palau', 'Suriname', 'Singapore', 'Maldives', 'Bahrain',\n",
       "       'Seychelles', 'Palestine', 'Saint Kitts and Nevis', 'Monaco'],\n",
       "      dtype=object)"
      ]
     },
     "execution_count": 29,
     "metadata": {},
     "output_type": "execute_result"
    }
   ],
   "source": [
    "gap['Country'].unique()"
   ]
  },
  {
   "cell_type": "markdown",
   "id": "c84ddbe3",
   "metadata": {},
   "source": [
    "Let's rename the value \"Unhealthy for Sensitive Groups\" of the Categorical Columns to \"Unhealthy(SG)\" for the purpose of Visualization"
   ]
  },
  {
   "cell_type": "code",
   "execution_count": 52,
   "id": "394626a9",
   "metadata": {
    "scrolled": false
   },
   "outputs": [
    {
     "data": {
      "text/html": [
       "<div>\n",
       "<style scoped>\n",
       "    .dataframe tbody tr th:only-of-type {\n",
       "        vertical-align: middle;\n",
       "    }\n",
       "\n",
       "    .dataframe tbody tr th {\n",
       "        vertical-align: top;\n",
       "    }\n",
       "\n",
       "    .dataframe thead th {\n",
       "        text-align: right;\n",
       "    }\n",
       "</style>\n",
       "<table border=\"1\" class=\"dataframe\">\n",
       "  <thead>\n",
       "    <tr style=\"text-align: right;\">\n",
       "      <th></th>\n",
       "      <th>Country</th>\n",
       "      <th>City</th>\n",
       "      <th>AQI Value</th>\n",
       "      <th>AQI Category</th>\n",
       "      <th>CO AQI Value</th>\n",
       "      <th>CO AQI Category</th>\n",
       "      <th>Ozone AQI Value</th>\n",
       "      <th>Ozone AQI Category</th>\n",
       "      <th>NO2 AQI Value</th>\n",
       "      <th>NO2 AQI Category</th>\n",
       "      <th>PM2.5 AQI Value</th>\n",
       "      <th>PM2.5 AQI Category</th>\n",
       "    </tr>\n",
       "  </thead>\n",
       "  <tbody>\n",
       "    <tr>\n",
       "      <th>0</th>\n",
       "      <td>Russia</td>\n",
       "      <td>Praskoveya</td>\n",
       "      <td>51</td>\n",
       "      <td>Moderate</td>\n",
       "      <td>1</td>\n",
       "      <td>Good</td>\n",
       "      <td>36</td>\n",
       "      <td>Good</td>\n",
       "      <td>0</td>\n",
       "      <td>Good</td>\n",
       "      <td>51</td>\n",
       "      <td>Moderate</td>\n",
       "    </tr>\n",
       "    <tr>\n",
       "      <th>1</th>\n",
       "      <td>Brazil</td>\n",
       "      <td>Presidente Dutra</td>\n",
       "      <td>41</td>\n",
       "      <td>Good</td>\n",
       "      <td>1</td>\n",
       "      <td>Good</td>\n",
       "      <td>5</td>\n",
       "      <td>Good</td>\n",
       "      <td>1</td>\n",
       "      <td>Good</td>\n",
       "      <td>41</td>\n",
       "      <td>Good</td>\n",
       "    </tr>\n",
       "    <tr>\n",
       "      <th>2</th>\n",
       "      <td>Italy</td>\n",
       "      <td>Priolo Gargallo</td>\n",
       "      <td>66</td>\n",
       "      <td>Moderate</td>\n",
       "      <td>1</td>\n",
       "      <td>Good</td>\n",
       "      <td>39</td>\n",
       "      <td>Good</td>\n",
       "      <td>2</td>\n",
       "      <td>Good</td>\n",
       "      <td>66</td>\n",
       "      <td>Moderate</td>\n",
       "    </tr>\n",
       "    <tr>\n",
       "      <th>3</th>\n",
       "      <td>Poland</td>\n",
       "      <td>Przasnysz</td>\n",
       "      <td>34</td>\n",
       "      <td>Good</td>\n",
       "      <td>1</td>\n",
       "      <td>Good</td>\n",
       "      <td>34</td>\n",
       "      <td>Good</td>\n",
       "      <td>0</td>\n",
       "      <td>Good</td>\n",
       "      <td>20</td>\n",
       "      <td>Good</td>\n",
       "    </tr>\n",
       "    <tr>\n",
       "      <th>4</th>\n",
       "      <td>France</td>\n",
       "      <td>Punaauia</td>\n",
       "      <td>22</td>\n",
       "      <td>Good</td>\n",
       "      <td>0</td>\n",
       "      <td>Good</td>\n",
       "      <td>22</td>\n",
       "      <td>Good</td>\n",
       "      <td>0</td>\n",
       "      <td>Good</td>\n",
       "      <td>6</td>\n",
       "      <td>Good</td>\n",
       "    </tr>\n",
       "  </tbody>\n",
       "</table>\n",
       "</div>"
      ],
      "text/plain": [
       "  Country              City  AQI Value AQI Category  CO AQI Value  \\\n",
       "0  Russia        Praskoveya         51     Moderate             1   \n",
       "1  Brazil  Presidente Dutra         41         Good             1   \n",
       "2   Italy   Priolo Gargallo         66     Moderate             1   \n",
       "3  Poland         Przasnysz         34         Good             1   \n",
       "4  France          Punaauia         22         Good             0   \n",
       "\n",
       "  CO AQI Category  Ozone AQI Value Ozone AQI Category  NO2 AQI Value  \\\n",
       "0            Good               36               Good              0   \n",
       "1            Good                5               Good              1   \n",
       "2            Good               39               Good              2   \n",
       "3            Good               34               Good              0   \n",
       "4            Good               22               Good              0   \n",
       "\n",
       "  NO2 AQI Category  PM2.5 AQI Value PM2.5 AQI Category  \n",
       "0             Good               51           Moderate  \n",
       "1             Good               41               Good  \n",
       "2             Good               66           Moderate  \n",
       "3             Good               20               Good  \n",
       "4             Good                6               Good  "
      ]
     },
     "execution_count": 52,
     "metadata": {},
     "output_type": "execute_result"
    }
   ],
   "source": [
    "gap['AQI Category'].replace({'Unhealthy for Sensitive Groups':\"Unhealthy(SG)\"},inplace=True)\n",
    "gap['CO AQI Category'].replace({'Unhealthy for Sensitive Groups':\"Unhealthy(SG)\"},inplace=True)\n",
    "gap['Ozone AQI Category'].replace({'Unhealthy for Sensitive Groups':\"Unhealthy(SG)\"},inplace=True)\n",
    "gap['NO2 AQI Category'].replace({'Unhealthy for Sensitive Groups':\"Unhealthy(SG)\"},inplace=True)\n",
    "gap['PM2.5 AQI Category'].replace({'Unhealthy for Sensitive Groups':\"Unhealthy(SG)\"},inplace=True)\n",
    "gap.head()"
   ]
  },
  {
   "cell_type": "code",
   "execution_count": 62,
   "id": "d4647567",
   "metadata": {},
   "outputs": [],
   "source": [
    "# making a copy of the cleaned dataset\n",
    "gap.to_csv(\"global air pollution cleaned.csv\")"
   ]
  },
  {
   "cell_type": "markdown",
   "id": "4d5f588f",
   "metadata": {},
   "source": [
    "## Descriptive Statistics"
   ]
  },
  {
   "cell_type": "code",
   "execution_count": 23,
   "id": "dcd60c37",
   "metadata": {
    "scrolled": true
   },
   "outputs": [
    {
     "data": {
      "text/html": [
       "<div>\n",
       "<style scoped>\n",
       "    .dataframe tbody tr th:only-of-type {\n",
       "        vertical-align: middle;\n",
       "    }\n",
       "\n",
       "    .dataframe tbody tr th {\n",
       "        vertical-align: top;\n",
       "    }\n",
       "\n",
       "    .dataframe thead th {\n",
       "        text-align: right;\n",
       "    }\n",
       "</style>\n",
       "<table border=\"1\" class=\"dataframe\">\n",
       "  <thead>\n",
       "    <tr style=\"text-align: right;\">\n",
       "      <th></th>\n",
       "      <th>AQI Value</th>\n",
       "      <th>CO AQI Value</th>\n",
       "      <th>Ozone AQI Value</th>\n",
       "      <th>NO2 AQI Value</th>\n",
       "      <th>PM2.5 AQI Value</th>\n",
       "    </tr>\n",
       "  </thead>\n",
       "  <tbody>\n",
       "    <tr>\n",
       "      <th>count</th>\n",
       "      <td>23035.000000</td>\n",
       "      <td>23035.000000</td>\n",
       "      <td>23035.000000</td>\n",
       "      <td>23035.000000</td>\n",
       "      <td>23035.000000</td>\n",
       "    </tr>\n",
       "    <tr>\n",
       "      <th>mean</th>\n",
       "      <td>72.344693</td>\n",
       "      <td>1.376254</td>\n",
       "      <td>35.233905</td>\n",
       "      <td>3.084741</td>\n",
       "      <td>68.883482</td>\n",
       "    </tr>\n",
       "    <tr>\n",
       "      <th>std</th>\n",
       "      <td>56.360992</td>\n",
       "      <td>1.844926</td>\n",
       "      <td>28.236613</td>\n",
       "      <td>5.281708</td>\n",
       "      <td>55.057396</td>\n",
       "    </tr>\n",
       "    <tr>\n",
       "      <th>min</th>\n",
       "      <td>6.000000</td>\n",
       "      <td>0.000000</td>\n",
       "      <td>0.000000</td>\n",
       "      <td>0.000000</td>\n",
       "      <td>0.000000</td>\n",
       "    </tr>\n",
       "    <tr>\n",
       "      <th>25%</th>\n",
       "      <td>39.000000</td>\n",
       "      <td>1.000000</td>\n",
       "      <td>21.000000</td>\n",
       "      <td>0.000000</td>\n",
       "      <td>35.000000</td>\n",
       "    </tr>\n",
       "    <tr>\n",
       "      <th>50%</th>\n",
       "      <td>55.000000</td>\n",
       "      <td>1.000000</td>\n",
       "      <td>31.000000</td>\n",
       "      <td>1.000000</td>\n",
       "      <td>54.000000</td>\n",
       "    </tr>\n",
       "    <tr>\n",
       "      <th>75%</th>\n",
       "      <td>80.000000</td>\n",
       "      <td>1.000000</td>\n",
       "      <td>40.000000</td>\n",
       "      <td>4.000000</td>\n",
       "      <td>79.000000</td>\n",
       "    </tr>\n",
       "    <tr>\n",
       "      <th>max</th>\n",
       "      <td>500.000000</td>\n",
       "      <td>133.000000</td>\n",
       "      <td>235.000000</td>\n",
       "      <td>91.000000</td>\n",
       "      <td>500.000000</td>\n",
       "    </tr>\n",
       "  </tbody>\n",
       "</table>\n",
       "</div>"
      ],
      "text/plain": [
       "          AQI Value  CO AQI Value  Ozone AQI Value  NO2 AQI Value  \\\n",
       "count  23035.000000  23035.000000     23035.000000   23035.000000   \n",
       "mean      72.344693      1.376254        35.233905       3.084741   \n",
       "std       56.360992      1.844926        28.236613       5.281708   \n",
       "min        6.000000      0.000000         0.000000       0.000000   \n",
       "25%       39.000000      1.000000        21.000000       0.000000   \n",
       "50%       55.000000      1.000000        31.000000       1.000000   \n",
       "75%       80.000000      1.000000        40.000000       4.000000   \n",
       "max      500.000000    133.000000       235.000000      91.000000   \n",
       "\n",
       "       PM2.5 AQI Value  \n",
       "count     23035.000000  \n",
       "mean         68.883482  \n",
       "std          55.057396  \n",
       "min           0.000000  \n",
       "25%          35.000000  \n",
       "50%          54.000000  \n",
       "75%          79.000000  \n",
       "max         500.000000  "
      ]
     },
     "execution_count": 23,
     "metadata": {},
     "output_type": "execute_result"
    }
   ],
   "source": [
    "gap.describe()"
   ]
  },
  {
   "cell_type": "code",
   "execution_count": 33,
   "id": "38209567",
   "metadata": {},
   "outputs": [],
   "source": [
    "pd.set_option(\"display.max_rows\", None)"
   ]
  },
  {
   "cell_type": "code",
   "execution_count": null,
   "id": "9157c501",
   "metadata": {},
   "outputs": [],
   "source": []
  },
  {
   "cell_type": "markdown",
   "id": "fed94813",
   "metadata": {},
   "source": [
    "## Visualization"
   ]
  },
  {
   "cell_type": "code",
   "execution_count": 34,
   "id": "9d96a28b",
   "metadata": {},
   "outputs": [],
   "source": [
    "top10 = gap[\"Country\"].value_counts().sort_values(ascending=False).head(10)"
   ]
  },
  {
   "cell_type": "code",
   "execution_count": 35,
   "id": "6c656e10",
   "metadata": {},
   "outputs": [
    {
     "data": {
      "text/plain": [
       "USA        2872\n",
       "India      2488\n",
       "Brazil     1562\n",
       "Germany    1345\n",
       "Russia     1241\n",
       "Italy       979\n",
       "France      802\n",
       "China       795\n",
       "Japan       702\n",
       "Mexico      588\n",
       "Name: Country, dtype: int64"
      ]
     },
     "execution_count": 35,
     "metadata": {},
     "output_type": "execute_result"
    }
   ],
   "source": [
    "top10"
   ]
  },
  {
   "cell_type": "code",
   "execution_count": 56,
   "id": "92b7f147",
   "metadata": {},
   "outputs": [
    {
     "data": {
      "image/png": "[encoded data removed]",
      "text/plain": [
       "<Figure size 800x500 with 1 Axes>"
      ]
     },
     "metadata": {},
     "output_type": "display_data"
    }
   ],
   "source": [
    "plt.figure(figsize=(8,5))\n",
    "sns.set_style('whitegrid')\n",
    "sns.countplot(x='AQI Category',data=gap);"
   ]
  },
  {
   "cell_type": "markdown",
   "id": "58801a87",
   "metadata": {},
   "source": [
    "## Objectives"
   ]
  },
  {
   "cell_type": "markdown",
   "id": "845f394a",
   "metadata": {},
   "source": [
    "> **Ensure Proper Country Names**\n",
    "\n",
    "> **Top 10 Countries having high AQI Value**\n",
    "\n",
    "> **Top 10 Countries having low AQI Values**\n",
    "\n",
    "> **High AQI Levels in India and Why?**\n",
    "\n",
    "> **Low AQI Levels in India and Why?**"
   ]
  },
  {
   "cell_type": "markdown",
   "id": "ac724435",
   "metadata": {},
   "source": [
    "## Ideas"
   ]
  },
  {
   "cell_type": "markdown",
   "id": "c24ed433",
   "metadata": {},
   "source": [
    "> **Create a new feature called \"Continent\" to analyse the AQI Quality on each Continent**"
   ]
  },
  {
   "cell_type": "code",
   "execution_count": null,
   "id": "31fbc4b2",
   "metadata": {},
   "outputs": [],
   "source": []
  }
 ],
 "metadata": {
  "kernelspec": {
   "display_name": "Python 3 (ipykernel)",
   "language": "python",
   "name": "python3"
  },
  "language_info": {
   "codemirror_mode": {
    "name": "ipython",
    "version": 3
   },
   "file_extension": ".py",
   "mimetype": "text/x-python",
   "name": "python",
   "nbconvert_exporter": "python",
   "pygments_lexer": "ipython3",
   "version": "3.10.9"
  }
 },
 "nbformat": 4,
 "nbformat_minor": 5
}
